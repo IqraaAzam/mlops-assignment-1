{
 "cells": [
  {
   "cell_type": "code",
   "execution_count": 7,
   "id": "720b45df",
   "metadata": {},
   "outputs": [],
   "source": [
    "from sklearn.datasets import load_wine\n",
    "from sklearn.model_selection import train_test_split\n",
    "wine = load_wine()\n",
    "X, y = wine.data, wine.target\n",
    "X_train, X_test, y_train, y_test = train_test_split(X, y, test_size=0.2, random_state=42)\n"
   ]
  },
  {
   "cell_type": "code",
   "execution_count": 8,
   "id": "aa253b76",
   "metadata": {},
   "outputs": [],
   "source": [
    "from sklearn.preprocessing import StandardScaler\n",
    "scaler = StandardScaler()\n",
    "X_train = scaler.fit_transform(X_train)\n",
    "X_test = scaler.transform(X_test)\n"
   ]
  },
  {
   "cell_type": "code",
   "execution_count": 9,
   "id": "25f46ce7",
   "metadata": {},
   "outputs": [],
   "source": [
    "from sklearn.metrics import accuracy_score, precision_score, recall_score, f1_score, confusion_matrix, ConfusionMatrixDisplay\n",
    "import joblib, matplotlib.pyplot as plt, os\n",
    "def train_evaluate_save(model, model_name):\n",
    "    model.fit(X_train, y_train)\n",
    "    y_pred = model.predict(X_test)\n",
    "    metrics = {\n",
    "        'accuracy': accuracy_score(y_test, y_pred),\n",
    "        'precision': precision_score(y_test, y_pred, average='macro'),\n",
    "        'recall': recall_score(y_test, y_pred, average='macro'),\n",
    "        'f1': f1_score(y_test, y_pred, average='macro')\n",
    "    }\n",
    "    os.makedirs('../models', exist_ok=True)\n",
    "    joblib.dump(model, f'../models/{model_name}.pkl')\n",
    "    cm = confusion_matrix(y_test, y_pred)\n",
    "    disp = ConfusionMatrixDisplay(confusion_matrix=cm, display_labels=wine.target_names)\n",
    "    disp.plot()\n",
    "    plt.savefig(f'../results/{model_name}_confusion_matrix.png')\n",
    "    plt.close()\n",
    "    return metrics\n"
   ]
  },
  {
   "cell_type": "code",
   "execution_count": 10,
   "id": "64d68ea9",
   "metadata": {},
   "outputs": [],
   "source": [
    "from sklearn.linear_model import LogisticRegression\n",
    "lr = LogisticRegression(max_iter=1000)\n",
    "lr_metrics = train_evaluate_save(lr, 'logistic_regression')"
   ]
  },
  {
   "cell_type": "code",
   "execution_count": 11,
   "id": "d1b960df",
   "metadata": {},
   "outputs": [],
   "source": [
    "from sklearn.ensemble import RandomForestClassifier\n",
    "rf = RandomForestClassifier(n_estimators=100, random_state=42)\n",
    "rf_metrics = train_evaluate_save(rf, 'random_forest')"
   ]
  },
  {
   "cell_type": "code",
   "execution_count": null,
   "id": "2cac51f0",
   "metadata": {},
   "outputs": [],
   "source": [
    "from sklearn.svm import SVC\n",
    "svm = SVC(kernel='linear', random_state=42)\n",
    "svm_metrics = train_evaluate_save(svm, 'svm')\n"
   ]
  },
  {
   "cell_type": "code",
   "execution_count": 13,
   "id": "4ed9b477",
   "metadata": {},
   "outputs": [],
   "source": [
    "import pandas as pd\n",
    "metrics_df = pd.DataFrame([lr_metrics, rf_metrics, svm_metrics], index=['Logistic Regression', 'Random Forest', 'SVM'])\n",
    "metrics_df.to_csv('../results/model_comparison.csv')\n"
   ]
  },
  {
   "cell_type": "code",
   "execution_count": 15,
   "id": "31c9fbd8",
   "metadata": {},
   "outputs": [
    {
     "name": "stderr",
     "output_type": "stream",
     "text": [
      "2025/09/18 12:38:45 INFO mlflow.tracking.fluent: Experiment with name 'Wine Classification' does not exist. Creating a new experiment.\n"
     ]
    }
   ],
   "source": [
    "import mlflow\n",
    "import mlflow.sklearn\n",
    "mlflow.set_experiment(\"Wine Classification\")\n",
    "mlflow.set_tracking_uri(\"http://localhost:5000\")"
   ]
  },
  {
   "cell_type": "code",
   "execution_count": 19,
   "id": "6c184383",
   "metadata": {},
   "outputs": [],
   "source": [
    "def train_log_mlflow(model, model_name, params, experiment_name=\"Wine_Classification\"):\n",
    "    mlflow.set_experiment(experiment_name)\n",
    "    with mlflow.start_run(run_name=model_name):\n",
    "        mlflow.log_params(params)\n",
    "        metrics = train_evaluate_save(model, model_name)\n",
    "        for metric, value in metrics.items():\n",
    "            mlflow.log_metric(metric, value)\n",
    "        mlflow.log_artifact(f'../results/{model_name}_confusion_matrix.png')\n",
    "        mlflow.sklearn.log_model(model, \"model\")\n",
    "        return mlflow.active_run().info.run_id\n"
   ]
  },
  {
   "cell_type": "code",
   "execution_count": null,
   "id": "b97d1bd4",
   "metadata": {},
   "outputs": [
    {
     "name": "stderr",
     "output_type": "stream",
     "text": [
      "2025/09/18 12:40:59 INFO mlflow.tracking.fluent: Experiment with name 'Wine_Classification' does not exist. Creating a new experiment.\n",
      "2025/09/18 12:41:33 WARNING mlflow.models.model: Model logged without a signature and input example. Please set `input_example` parameter when logging the model to auto infer the model signature.\n",
      "2025/09/18 12:41:34 INFO mlflow.tracking._tracking_service.client: 🏃 View run lr_run1 at: http://localhost:5000/#/experiments/762586276057879111/runs/0d9d6107996e4885a43d158f25ed641e.\n",
      "2025/09/18 12:41:34 INFO mlflow.tracking._tracking_service.client: 🧪 View experiment at: http://localhost:5000/#/experiments/762586276057879111.\n",
      "2025/09/18 12:41:39 WARNING mlflow.models.model: Model logged without a signature and input example. Please set `input_example` parameter when logging the model to auto infer the model signature.\n",
      "2025/09/18 12:41:39 INFO mlflow.tracking._tracking_service.client: 🏃 View run lr_run2 at: http://localhost:5000/#/experiments/762586276057879111/runs/2d22b7f14a544422b2b6d2ac9d2ae80c.\n",
      "2025/09/18 12:41:39 INFO mlflow.tracking._tracking_service.client: 🧪 View experiment at: http://localhost:5000/#/experiments/762586276057879111.\n",
      "2025/09/18 12:41:43 WARNING mlflow.models.model: Model logged without a signature and input example. Please set `input_example` parameter when logging the model to auto infer the model signature.\n",
      "2025/09/18 12:41:43 INFO mlflow.tracking._tracking_service.client: 🏃 View run lr_run3 at: http://localhost:5000/#/experiments/762586276057879111/runs/cf4ededf88a749ef8486a00758bc6208.\n",
      "2025/09/18 12:41:43 INFO mlflow.tracking._tracking_service.client: 🧪 View experiment at: http://localhost:5000/#/experiments/762586276057879111.\n"
     ]
    }
   ],
   "source": [
    "lr_params1 = {'max_iter': 1000, 'C': 0.1}\n",
    "lr_run1_id = train_log_mlflow(LogisticRegression(**lr_params1), 'lr_run1', lr_params1)  \n",
    "lr_params2 = {'max_iter': 1000, 'C': 1.0}\n",
    "lr_run2_id = train_log_mlflow(LogisticRegression(**lr_params2), 'lr_run2', lr_params2)  \n",
    "lr_params3 = {'max_iter': 1000, 'C': 10.0}\n",
    "lr_run3_id = train_log_mlflow(LogisticRegression(**lr_params3), 'lr_run3', lr_params3)  \n"
   ]
  },
  {
   "cell_type": "code",
   "execution_count": 21,
   "id": "29160a6a",
   "metadata": {},
   "outputs": [
    {
     "name": "stderr",
     "output_type": "stream",
     "text": [
      "2025/09/18 12:44:49 WARNING mlflow.models.model: Model logged without a signature and input example. Please set `input_example` parameter when logging the model to auto infer the model signature.\n",
      "2025/09/18 12:44:49 INFO mlflow.tracking._tracking_service.client: 🏃 View run rf_run1 at: http://localhost:5000/#/experiments/762586276057879111/runs/55fdf0cdd9e04957ad6329d2900cba95.\n",
      "2025/09/18 12:44:49 INFO mlflow.tracking._tracking_service.client: 🧪 View experiment at: http://localhost:5000/#/experiments/762586276057879111.\n",
      "2025/09/18 12:44:54 WARNING mlflow.models.model: Model logged without a signature and input example. Please set `input_example` parameter when logging the model to auto infer the model signature.\n",
      "2025/09/18 12:44:55 INFO mlflow.tracking._tracking_service.client: 🏃 View run rf_run2 at: http://localhost:5000/#/experiments/762586276057879111/runs/6180c404083345f6bf636fd74d4fc553.\n",
      "2025/09/18 12:44:55 INFO mlflow.tracking._tracking_service.client: 🧪 View experiment at: http://localhost:5000/#/experiments/762586276057879111.\n",
      "2025/09/18 12:45:00 WARNING mlflow.models.model: Model logged without a signature and input example. Please set `input_example` parameter when logging the model to auto infer the model signature.\n",
      "2025/09/18 12:45:00 INFO mlflow.tracking._tracking_service.client: 🏃 View run rf_run3 at: http://localhost:5000/#/experiments/762586276057879111/runs/0acd962030c4411ba21074bf107d020d.\n",
      "2025/09/18 12:45:00 INFO mlflow.tracking._tracking_service.client: 🧪 View experiment at: http://localhost:5000/#/experiments/762586276057879111.\n"
     ]
    }
   ],
   "source": [
    "rf_params1 = {'n_estimators': 50, 'random_state': 42}\n",
    "rf_run1_id = train_log_mlflow(RandomForestClassifier(**rf_params1), 'rf_run1', rf_params1)  \n",
    "rf_params2 = {'n_estimators': 100, 'random_state': 42}\n",
    "rf_run2_id = train_log_mlflow(RandomForestClassifier(**rf_params2), 'rf_run2', rf_params2)  \n",
    "rf_params3 = {'n_estimators': 200, 'random_state': 42}\n",
    "rf_run3_id = train_log_mlflow(RandomForestClassifier(**rf_params3), 'rf_run3', rf_params3)  \n"
   ]
  },
  {
   "cell_type": "code",
   "execution_count": 22,
   "id": "fe4575b1",
   "metadata": {},
   "outputs": [
    {
     "name": "stderr",
     "output_type": "stream",
     "text": [
      "2025/09/18 12:45:54 WARNING mlflow.models.model: Model logged without a signature and input example. Please set `input_example` parameter when logging the model to auto infer the model signature.\n",
      "2025/09/18 12:45:54 INFO mlflow.tracking._tracking_service.client: 🏃 View run svm_run1 at: http://localhost:5000/#/experiments/762586276057879111/runs/baa98ca88e3b4760ac7fe94511e3622b.\n",
      "2025/09/18 12:45:54 INFO mlflow.tracking._tracking_service.client: 🧪 View experiment at: http://localhost:5000/#/experiments/762586276057879111.\n",
      "2025/09/18 12:45:59 WARNING mlflow.models.model: Model logged without a signature and input example. Please set `input_example` parameter when logging the model to auto infer the model signature.\n",
      "2025/09/18 12:45:59 INFO mlflow.tracking._tracking_service.client: 🏃 View run svm_run2 at: http://localhost:5000/#/experiments/762586276057879111/runs/5494cc337e74468281be83377069a4fa.\n",
      "2025/09/18 12:45:59 INFO mlflow.tracking._tracking_service.client: 🧪 View experiment at: http://localhost:5000/#/experiments/762586276057879111.\n",
      "2025/09/18 12:46:05 WARNING mlflow.models.model: Model logged without a signature and input example. Please set `input_example` parameter when logging the model to auto infer the model signature.\n",
      "2025/09/18 12:46:05 INFO mlflow.tracking._tracking_service.client: 🏃 View run svm_run3 at: http://localhost:5000/#/experiments/762586276057879111/runs/34d42b847c1c40a2a2c1983d36382bc1.\n",
      "2025/09/18 12:46:05 INFO mlflow.tracking._tracking_service.client: 🧪 View experiment at: http://localhost:5000/#/experiments/762586276057879111.\n"
     ]
    }
   ],
   "source": [
    "svm_params1 = {'kernel': 'linear', 'C': 0.1, 'random_state': 42}\n",
    "svm_run1_id = train_log_mlflow(SVC(**svm_params1), 'svm_run1', svm_params1)  \n",
    "svm_params2 = {'kernel': 'linear', 'C': 1.0, 'random_state': 42}\n",
    "svm_run2_id = train_log_mlflow(SVC(**svm_params2), 'svm_run2', svm_params2)  \n",
    "svm_params3 = {'kernel': 'linear', 'C': 10.0, 'random_state': 42}\n",
    "svm_run3_id = train_log_mlflow(SVC(**svm_params3), 'svm_run3', svm_params3)  \n"
   ]
  },
  {
   "cell_type": "code",
   "execution_count": 23,
   "id": "99ea22ec",
   "metadata": {},
   "outputs": [
    {
     "name": "stderr",
     "output_type": "stream",
     "text": [
      "Successfully registered model 'WineClassifier'.\n",
      "2025/09/18 13:01:04 INFO mlflow.store.model_registry.abstract_store: Waiting up to 300 seconds for model version to finish creation. Model name: WineClassifier, version 1\n",
      "Created version '1' of model 'WineClassifier'.\n"
     ]
    },
    {
     "data": {
      "text/plain": [
       "<ModelVersion: aliases=[], creation_timestamp=1758182464702, current_stage='None', description='', last_updated_timestamp=1758182464702, name='WineClassifier', run_id='2d22b7f14a544422b2b6d2ac9d2ae80c', run_link='', source='mlflow-artifacts:/762586276057879111/2d22b7f14a544422b2b6d2ac9d2ae80c/artifacts/model', status='READY', status_message='', tags={}, user_id='', version='1'>"
      ]
     },
     "execution_count": 23,
     "metadata": {},
     "output_type": "execute_result"
    }
   ],
   "source": [
    "run_id = lr_run2_id\n",
    "mlflow.register_model(f\"runs:/{run_id}/model\", \"WineClassifier\")"
   ]
  }
 ],
 "metadata": {
  "kernelspec": {
   "display_name": "mlops",
   "language": "python",
   "name": "python3"
  },
  "language_info": {
   "codemirror_mode": {
    "name": "ipython",
    "version": 3
   },
   "file_extension": ".py",
   "mimetype": "text/x-python",
   "name": "python",
   "nbconvert_exporter": "python",
   "pygments_lexer": "ipython3",
   "version": "3.12.3"
  }
 },
 "nbformat": 4,
 "nbformat_minor": 5
}
